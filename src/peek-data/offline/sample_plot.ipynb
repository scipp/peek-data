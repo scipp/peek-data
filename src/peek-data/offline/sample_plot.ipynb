{
 "cells": [
  {
   "cell_type": "code",
   "execution_count": 1,
   "id": "d09471d5-5813-4e0e-8ba3-51c11bf3c76c",
   "metadata": {},
   "outputs": [],
   "source": [
    "import scipp as sc\n",
    "import plopp as pp\n",
    "pp.patch_scipp()\n",
    "%matplotlib widget\n",
    "# import matplotlib as mpl\n",
    "# mpl.get_backend()\n",
    "# mpl.use(backend='module://ipympl.backend_nbagg')"
   ]
  },
  {
   "cell_type": "code",
   "execution_count": 2,
   "id": "5b4d16f5-d05a-4b15-ba8f-f447582b9387",
   "metadata": {},
   "outputs": [
    {
     "data": {
      "application/vnd.jupyter.widget-view+json": {
       "model_id": "80a749a2d1f84ec4bd115dc22619a2d8",
       "version_major": 2,
       "version_minor": 0
      },
      "text/plain": [
       "Box(children=(InteractiveFig(children=(HBar(), HBox(children=(VBar(children=(Toolbar(children=(ButtonTool(icon…"
      ]
     },
     "metadata": {},
     "output_type": "display_data"
    }
   ],
   "source": [
    "pp.backends['2d'] = 'matplotlib'\n",
    "da = pp.data.data2d()\n",
    "fig = pp.slicer(da)\n",
    "fig"
   ]
  },
  {
   "cell_type": "code",
   "execution_count": 4,
   "id": "75490239-2f40-42ac-ad9f-26d13131f800",
   "metadata": {},
   "outputs": [],
   "source": [
    "import plopp as pp\n",
    "da = pp.data.data1d()\n",
    "pp.backends['2d'] = 'plotly'\n",
    "fig = pp.plot(da)._fig.canvas.fig"
   ]
  },
  {
   "cell_type": "code",
   "execution_count": 5,
   "id": "92d72c04-a99d-4f6c-9750-53177616dc9e",
   "metadata": {},
   "outputs": [
    {
     "data": {
      "text/plain": [
       "(Scatter({\n",
       "     'line': {'color': '#636EFA'},\n",
       "     'marker': {'symbol': 0},\n",
       "     'mode': 'markers',\n",
       "     'name': '',\n",
       "     'x': array([ 0.,  1.,  2.,  3.,  4.,  5.,  6.,  7.,  8.,  9., 10., 11., 12., 13.,\n",
       "                 14., 15., 16., 17., 18., 19., 20., 21., 22., 23., 24., 25., 26., 27.,\n",
       "                 28., 29., 30., 31., 32., 33., 34., 35., 36., 37., 38., 39., 40., 41.,\n",
       "                 42., 43., 44., 45., 46., 47., 48., 49.]),\n",
       "     'y': array([ 0.        ,  0.19866933,  0.38941834,  0.56464247,  0.71735609,\n",
       "                  0.84147098,  0.93203909,  0.98544973,  0.9995736 ,  0.97384763,\n",
       "                  0.90929743,  0.8084964 ,  0.67546318,  0.51550137,  0.33498815,\n",
       "                  0.14112001, -0.05837414, -0.2555411 , -0.44252044, -0.61185789,\n",
       "                 -0.7568025 , -0.87157577, -0.95160207, -0.993691  , -0.99616461,\n",
       "                 -0.95892427, -0.88345466, -0.77276449, -0.63126664, -0.46460218,\n",
       "                 -0.2794155 , -0.0830894 ,  0.1165492 ,  0.31154136,  0.49411335,\n",
       "                  0.6569866 ,  0.79366786,  0.8987081 ,  0.96791967,  0.99854335,\n",
       "                  0.98935825,  0.94073056,  0.85459891,  0.7343971 ,  0.58491719,\n",
       "                  0.41211849,  0.22288991,  0.02477543, -0.17432678, -0.36647913])\n",
       " }),\n",
       " Scatter({\n",
       "     'line': {'color': '#636EFA', 'width': 5},\n",
       "     'marker': {'line': {'color': 'black', 'width': 3}, 'symbol': 0},\n",
       "     'mode': 'markers',\n",
       "     'name': '',\n",
       "     'showlegend': False,\n",
       "     'visible': False,\n",
       "     'x': array([ 0.,  1.,  2.,  3.,  4.,  5.,  6.,  7.,  8.,  9., 10., 11., 12., 13.,\n",
       "                 14., 15., 16., 17., 18., 19., 20., 21., 22., 23., 24., 25., 26., 27.,\n",
       "                 28., 29., 30., 31., 32., 33., 34., 35., 36., 37., 38., 39., 40., 41.,\n",
       "                 42., 43., 44., 45., 46., 47., 48., 49.]),\n",
       "     'y': array([ 0.        ,  0.19866933,  0.38941834,  0.56464247,  0.71735609,\n",
       "                  0.84147098,  0.93203909,  0.98544973,  0.9995736 ,  0.97384763,\n",
       "                  0.90929743,  0.8084964 ,  0.67546318,  0.51550137,  0.33498815,\n",
       "                  0.14112001, -0.05837414, -0.2555411 , -0.44252044, -0.61185789,\n",
       "                 -0.7568025 , -0.87157577, -0.95160207, -0.993691  , -0.99616461,\n",
       "                 -0.95892427, -0.88345466, -0.77276449, -0.63126664, -0.46460218,\n",
       "                 -0.2794155 , -0.0830894 ,  0.1165492 ,  0.31154136,  0.49411335,\n",
       "                  0.6569866 ,  0.79366786,  0.8987081 ,  0.96791967,  0.99854335,\n",
       "                  0.98935825,  0.94073056,  0.85459891,  0.7343971 ,  0.58491719,\n",
       "                  0.41211849,  0.22288991,  0.02477543, -0.17432678, -0.36647913])\n",
       " }))"
      ]
     },
     "execution_count": 5,
     "metadata": {},
     "output_type": "execute_result"
    }
   ],
   "source": [
    "fig.data"
   ]
  },
  {
   "cell_type": "code",
   "execution_count": null,
   "id": "f029c0de-526f-492d-8018-d8076eba48ab",
   "metadata": {},
   "outputs": [],
   "source": []
  }
 ],
 "metadata": {
  "kernelspec": {
   "display_name": "Python 3 (ipykernel)",
   "language": "python",
   "name": "python3"
  },
  "language_info": {
   "codemirror_mode": {
    "name": "ipython",
    "version": 3
   },
   "file_extension": ".py",
   "mimetype": "text/x-python",
   "name": "python",
   "nbconvert_exporter": "python",
   "pygments_lexer": "ipython3",
   "version": "3.9.15"
  }
 },
 "nbformat": 4,
 "nbformat_minor": 5
}
